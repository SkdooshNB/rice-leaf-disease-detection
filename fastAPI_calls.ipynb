{
  "nbformat": 4,
  "nbformat_minor": 0,
  "metadata": {
    "colab": {
      "name": "fastAPI_calls.ipynb",
      "provenance": [],
      "mount_file_id": "13av3eeouG3VsF6qq7d1orrU_Vpd7ClHU",
      "authorship_tag": "ABX9TyMmyF/tUZKR/AD5vBkXhDR1",
      "include_colab_link": true
    },
    "kernelspec": {
      "name": "python3",
      "display_name": "Python 3"
    },
    "language_info": {
      "name": "python"
    }
  },
  "cells": [
    {
      "cell_type": "markdown",
      "metadata": {
        "id": "view-in-github",
        "colab_type": "text"
      },
      "source": [
        "<a href=\"https://colab.research.google.com/github/SkdooshNB/rice-leaf-disease-detection/blob/master/fastAPI_calls.ipynb\" target=\"_parent\"><img src=\"https://colab.research.google.com/assets/colab-badge.svg\" alt=\"Open In Colab\"/></a>"
      ]
    },
    {
      "cell_type": "code",
      "metadata": {
        "id": "u7Op6kAOfsZ1",
        "colab": {
          "base_uri": "https://localhost:8080/"
        },
        "outputId": "6889c905-70c7-4e7e-d7fa-b35fb2d802c2"
      },
      "source": [
        "cd drive/MyDrive/plant_disease/saved_model/"
      ],
      "execution_count": null,
      "outputs": [
        {
          "output_type": "stream",
          "name": "stdout",
          "text": [
            "/content/drive/MyDrive/plant_disease/saved_model\n"
          ]
        }
      ]
    },
    {
      "cell_type": "code",
      "metadata": {
        "colab": {
          "base_uri": "https://localhost:8080/"
        },
        "id": "TNO7s7ioikvF",
        "outputId": "682a4564-1407-4801-e2e2-0e009e92de77"
      },
      "source": [
        "# !pip install colabcode fastapi nest-asyncio pyngrok uvicorn python-multipart\n",
        "# !pip install fastapi nest-asyncio pyngrok uvicorn python-multipart\n",
        "!pip install FastAPI -q\n",
        "!pip install uvicorn -q\n",
        "!pip install pyngrok python-multipart nest-asyncio\n"
      ],
      "execution_count": null,
      "outputs": [
        {
          "output_type": "stream",
          "name": "stdout",
          "text": [
            "Requirement already satisfied: pyngrok in /usr/local/lib/python3.7/dist-packages (5.1.0)\n",
            "Requirement already satisfied: python-multipart in /usr/local/lib/python3.7/dist-packages (0.0.5)\n",
            "Requirement already satisfied: nest-asyncio in /usr/local/lib/python3.7/dist-packages (1.5.1)\n",
            "Requirement already satisfied: PyYAML in /usr/local/lib/python3.7/dist-packages (from pyngrok) (3.13)\n",
            "Requirement already satisfied: six>=1.4.0 in /usr/local/lib/python3.7/dist-packages (from python-multipart) (1.15.0)\n"
          ]
        }
      ]
    },
    {
      "cell_type": "code",
      "metadata": {
        "id": "ZVbqt2DLMgwM"
      },
      "source": [
        "import tensorflow as tf\n",
        "from tensorflow.keras import models, layers"
      ],
      "execution_count": null,
      "outputs": []
    },
    {
      "cell_type": "code",
      "metadata": {
        "colab": {
          "base_uri": "https://localhost:8080/"
        },
        "id": "K_HctiA3MHy8",
        "outputId": "f194a675-00a9-4f61-c337-e20fd9df6668"
      },
      "source": [
        "model = tf.keras.models.load_model('1')\n",
        "model.summary()"
      ],
      "execution_count": null,
      "outputs": [
        {
          "output_type": "stream",
          "name": "stdout",
          "text": [
            "Model: \"sequential_2\"\n",
            "_________________________________________________________________\n",
            "Layer (type)                 Output Shape              Param #   \n",
            "=================================================================\n",
            "sequential (Sequential)      (None, 256, 256, 3)       0         \n",
            "_________________________________________________________________\n",
            "conv2d (Conv2D)              (None, 254, 254, 32)      896       \n",
            "_________________________________________________________________\n",
            "max_pooling2d (MaxPooling2D) (None, 127, 127, 32)      0         \n",
            "_________________________________________________________________\n",
            "conv2d_1 (Conv2D)            (None, 125, 125, 64)      18496     \n",
            "_________________________________________________________________\n",
            "max_pooling2d_1 (MaxPooling2 (None, 62, 62, 64)        0         \n",
            "_________________________________________________________________\n",
            "conv2d_2 (Conv2D)            (None, 60, 60, 64)        36928     \n",
            "_________________________________________________________________\n",
            "max_pooling2d_2 (MaxPooling2 (None, 30, 30, 64)        0         \n",
            "_________________________________________________________________\n",
            "conv2d_3 (Conv2D)            (None, 28, 28, 64)        36928     \n",
            "_________________________________________________________________\n",
            "max_pooling2d_3 (MaxPooling2 (None, 14, 14, 64)        0         \n",
            "_________________________________________________________________\n",
            "conv2d_4 (Conv2D)            (None, 12, 12, 64)        36928     \n",
            "_________________________________________________________________\n",
            "max_pooling2d_4 (MaxPooling2 (None, 6, 6, 64)          0         \n",
            "_________________________________________________________________\n",
            "conv2d_5 (Conv2D)            (None, 4, 4, 64)          36928     \n",
            "_________________________________________________________________\n",
            "max_pooling2d_5 (MaxPooling2 (None, 2, 2, 64)          0         \n",
            "_________________________________________________________________\n",
            "flatten (Flatten)            (None, 256)               0         \n",
            "_________________________________________________________________\n",
            "dense (Dense)                (None, 64)                16448     \n",
            "_________________________________________________________________\n",
            "dense_1 (Dense)              (None, 3)                 195       \n",
            "=================================================================\n",
            "Total params: 183,747\n",
            "Trainable params: 183,747\n",
            "Non-trainable params: 0\n",
            "_________________________________________________________________\n"
          ]
        }
      ]
    },
    {
      "cell_type": "code",
      "metadata": {
        "id": "atc0snaXQdkM"
      },
      "source": [
        "from PIL import Image\n",
        "import numpy as np\n",
        "from skimage import transform\n",
        "def load(filename):\n",
        "  np_image = Image.open(filename)\n",
        "  # np_image = np.array(np_image).astype('uint8')/255\n",
        "  # np_image = transform.resize(np_image,(256,256,3))\n",
        "  np_image = np.expand_dims(np_image, axis = 0)\n",
        "  return np_image\n"
      ],
      "execution_count": null,
      "outputs": []
    },
    {
      "cell_type": "code",
      "metadata": {
        "id": "KfAXkc7zM6F9"
      },
      "source": [
        "# # [[256,256,3]]\n",
        "# image = load('fabf3179-8fba-4551-93fe-28e7f6c0efc3___RS_LB 3269.JPG')\n",
        "# prediction = model.predict(image)\n",
        "# prediction"
      ],
      "execution_count": null,
      "outputs": []
    },
    {
      "cell_type": "code",
      "metadata": {
        "colab": {
          "base_uri": "https://localhost:8080/"
        },
        "id": "J33eSrZjZl7h",
        "outputId": "dd2ca395-e915-494f-9627-6a90785a56c2"
      },
      "source": [
        "from fastapi import FastAPI,File,UploadFile\n",
        "from fastapi.middleware.cors import CORSMiddleware\n",
        "\n",
        "import nest_asyncio\n",
        "from pyngrok import ngrok\n",
        "import uvicorn\n",
        "\n",
        "import numpy as np\n",
        "import tensorflow as tf\n",
        "from io import BytesIO\n",
        "from PIL import Image\n",
        "\n",
        "app = FastAPI()\n",
        "\n",
        "CLASS_NAMES = [\"Early Blight\", \"Late Blight\", \"Healthy\"]\n",
        "\n",
        "app.add_middleware(\n",
        "    CORSMiddleware,\n",
        "    allow_origins=[\"*\"],\n",
        "    allow_credentials=True,\n",
        "    allow_methods=[\"*\"],\n",
        "    allow_headers=[\"*\"],\n",
        ")\n",
        "\n",
        "@app.get(\"/\")\n",
        "def ping():\n",
        "  return \"hello, I am alive\"\n",
        "\n",
        "def read_file_as_image(data) -> np.ndarray:\n",
        "  image = np.array(Image.open(BytesIO(data)))\n",
        "  return image\n",
        "\n",
        "@app.post(\"/\")\n",
        "async def predict(file: UploadFile = File(...)):\n",
        "  image = read_file_as_image(await file.read())\n",
        "  img_batch = np.expand_dims(image,0)\n",
        "\n",
        "  predictions = model.predict(img_batch)\n",
        "\n",
        "  predicted_class = CLASS_NAMES[np.argmax(predictions[0])]\n",
        "  confidence = np.max(predictions[0])\n",
        "  return {\n",
        "      'class' : predicted_class,\n",
        "      'confidence': float(confidence)\n",
        "  }\n",
        "\n",
        "\n",
        "ngrok_tunnel = ngrok.connect(3000)\n",
        "print('Public URL:', ngrok_tunnel.public_url)\n",
        "nest_asyncio.apply()\n",
        "uvicorn.run(app,port=3000)\n"
      ],
      "execution_count": null,
      "outputs": [
        {
          "output_type": "stream",
          "name": "stdout",
          "text": [
            "Public URL: http://4cbd-35-245-171-18.ngrok.io\n"
          ]
        },
        {
          "output_type": "stream",
          "name": "stderr",
          "text": [
            "INFO:     Started server process [341]\n",
            "INFO:     Waiting for application startup.\n",
            "INFO:     Application startup complete.\n",
            "INFO:     Uvicorn running on http://127.0.0.1:3000 (Press CTRL+C to quit)\n"
          ]
        },
        {
          "output_type": "stream",
          "name": "stdout",
          "text": [
            "INFO:     2409:4062:286:a701:64e1:448:ffff:c855:0 - \"GET / HTTP/1.1\" 200 OK\n",
            "INFO:     157.41.174.86:0 - \"POST / HTTP/1.1\" 200 OK\n"
          ]
        },
        {
          "output_type": "stream",
          "name": "stderr",
          "text": [
            "INFO:     Shutting down\n",
            "INFO:     Waiting for application shutdown.\n",
            "INFO:     Application shutdown complete.\n",
            "INFO:     Finished server process [341]\n"
          ]
        }
      ]
    }
  ]
}